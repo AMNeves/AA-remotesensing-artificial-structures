{
 "cells": [
  {
   "cell_type": "code",
   "execution_count": 1,
   "metadata": {},
   "outputs": [],
   "source": [
    "\"\"\"\n",
    "Created on Sun Mar  3 21:42:16 2019\n",
    "\n",
    "@author: André Neves\n",
    "\"\"\"\n",
    "import sys\n",
    "import gdal\n",
    "from utils import visualization as viz\n",
    "from utils import data\n",
    "import numpy as np\n",
    "from tqdm import tqdm\n",
    "from sklearn.metrics import classification_report, confusion_matrix, cohen_kappa_score\n",
    "import matplotlib\n",
    "import matplotlib.pyplot as plt\n",
    "\n",
    "# inicialize data location\n",
    "DATA_FOLDER = \"../sensing_data/\"\n",
    "ROI = \"vila-de-rei/\"\n",
    "\n",
    "SRC_FOLDER = DATA_FOLDER + \"results/\" + ROI\n",
    "\n",
    "\n",
    "SRC = SRC_FOLDER + \"timeseries/\"\n",
    "\n",
    "FCG_SRC = SRC_FOLDER + \"fgc/\"\n",
    "\n",
    "GT_SRC = SRC_FOLDER + \"GT/\"\n",
    "COS_SRC = DATA_FOLDER + \"clipped/\" + ROI\n",
    "\n",
    "OUT_RASTER = DATA_FOLDER + \"results/\" + ROI + \\\n",
    "    \"timeseries/xgb/GT_group1_classification.tiff\"\n",
    "OUT_RASTER_2 = DATA_FOLDER + \"results/\" + ROI + \\\n",
    "    \"timeseries/xgb/GT_group2_classification.tiff\"\n",
    "\n",
    "REF_FILE = DATA_FOLDER + \"clipped/\" + ROI + \\\n",
    "    \"ignored/static/clipped_sentinel2_B08.vrt\"\n",
    "\n",
    "G1_CLASS = \"../paper/EPIA2020/results/group1/boosted_20px_static_group1_classification.tiff\"\n",
    "G2_CLASS = \"../paper/EPIA2020/results/group2/boosted_20px_static_group2_classification.tiff\""
   ]
  },
  {
   "cell_type": "code",
   "execution_count": 2,
   "metadata": {},
   "outputs": [],
   "source": [
    "def plot_confusion_matrix(y_true, y_pred, classes,\n",
    "                          normalize=True,\n",
    "                          title=None,\n",
    "                          cmap=plt.cm.Blues):\n",
    "    \"\"\"\n",
    "    This function prints and plots the confusion matrix.\n",
    "    Normalization can be applied by setting normalize=True.\n",
    "    \"\"\"\n",
    "    if not title:\n",
    "        if normalize:\n",
    "            title = 'Normalized confusion matrix'\n",
    "        else:\n",
    "            title = 'Confusion matrix, without normalization'\n",
    "\n",
    "    # Compute confusion matrix\n",
    "    cm = confusion_matrix(y_true, y_pred)\n",
    "\n",
    "    # Only use the labels that appear in the data\n",
    "    # classes = classes[unique_labels(y_true, y_pred)]\n",
    "    if normalize:\n",
    "        cm = cm.astype('float') / cm.sum(axis=1)[:, np.newaxis]\n",
    "        print(\"Normalized confusion matrix\")\n",
    "    else:\n",
    "        print('Confusion matrix, without normalization')\n",
    "\n",
    "    fig, ax = plt.subplots(figsize=(11, 10))\n",
    "    im = ax.imshow(cm, interpolation='nearest', cmap=cmap)\n",
    "    #ax.figure.colorbar(im, ax=ax)\n",
    "    # We want to show all ticks...\n",
    "    ax.set(xticks=np.arange(cm.shape[1]),\n",
    "           yticks=np.arange(cm.shape[0]),\n",
    "           # ... and label them with the respective list entries\n",
    "           xticklabels=classes, yticklabels=classes,\n",
    "           ylabel='True label',\n",
    "           xlabel='Predicted label')\n",
    "\n",
    "    # Rotate the tick labels and set their alignment.\n",
    "    plt.setp(ax.get_xticklabels(), rotation=45, ha=\"right\",\n",
    "             rotation_mode=\"anchor\")\n",
    "\n",
    "    # Loop over data dimensions and create text annotations.\n",
    "    fmt = '.2f' if normalize else 'd'\n",
    "    thresh = cm.max() / 2.\n",
    "    for i in range(cm.shape[0]):\n",
    "        for j in range(cm.shape[1]):\n",
    "            ax.text(j, i, format(cm[i, j], fmt),\n",
    "                    ha=\"center\", va=\"center\",\n",
    "                    color=\"white\" if cm[i, j] > thresh else \"black\")\n",
    "    fig.tight_layout()\n",
    "    plt.savefig(title+'.pdf')\n",
    "    return ax"
   ]
  },
  {
   "cell_type": "code",
   "execution_count": 3,
   "metadata": {},
   "outputs": [
    {
     "name": "stderr",
     "output_type": "stream",
     "text": [
      "  0%|▏                                                                                                                                                                                                                                    | 16969/19386625 [00:00<01:54, 169637.99it/s]"
     ]
    },
    {
     "name": "stdout",
     "output_type": "stream",
     "text": [
      "Mapping cos...\n"
     ]
    },
    {
     "name": "stderr",
     "output_type": "stream",
     "text": [
      "100%|██████████████████████████████████████████████████████████████████████████████████████████████████████████████████████████████████████████████████████████████████████████████████████████████████████████████████████████████████| 19386625/19386625 [01:55<00:00, 168511.43it/s]\n",
      "100%|██████████████████████████████████████████████████████████████████████████████████████████████████████████████████████████████████████████████████████████████████████████████████████████████████████████████████████████████████| 19386625/19386625 [02:49<00:00, 114648.04it/s]\n",
      "  0%|                                                                                                                                                                                                                                                     | 0/19386625 [00:00<?, ?it/s]"
     ]
    },
    {
     "name": "stdout",
     "output_type": "stream",
     "text": [
      "Mapping split...\n"
     ]
    },
    {
     "ename": "NameError",
     "evalue": "name 'split_map' is not defined",
     "output_type": "error",
     "traceback": [
      "\u001b[1;31m---------------------------------------------------------------------------\u001b[0m",
      "\u001b[1;31mNameError\u001b[0m                                 Traceback (most recent call last)",
      "\u001b[1;32m<ipython-input-3-1fbdba99eef9>\u001b[0m in \u001b[0;36m<module>\u001b[1;34m\u001b[0m\n\u001b[0;32m     20\u001b[0m \u001b[0mprint\u001b[0m\u001b[1;33m(\u001b[0m\u001b[1;34m\"Mapping split...\"\u001b[0m\u001b[1;33m)\u001b[0m\u001b[1;33m\u001b[0m\u001b[1;33m\u001b[0m\u001b[0m\n\u001b[0;32m     21\u001b[0m result_10m_boosted_split_mapped = np.array([split_map(yi)\n\u001b[1;32m---> 22\u001b[1;33m                 for yi in tqdm(result_10m_boosted_split.flatten())])\n\u001b[0m",
      "\u001b[1;32m<ipython-input-3-1fbdba99eef9>\u001b[0m in \u001b[0;36m<listcomp>\u001b[1;34m(.0)\u001b[0m\n\u001b[0;32m     20\u001b[0m \u001b[0mprint\u001b[0m\u001b[1;33m(\u001b[0m\u001b[1;34m\"Mapping split...\"\u001b[0m\u001b[1;33m)\u001b[0m\u001b[1;33m\u001b[0m\u001b[1;33m\u001b[0m\u001b[0m\n\u001b[0;32m     21\u001b[0m result_10m_boosted_split_mapped = np.array([split_map(yi)\n\u001b[1;32m---> 22\u001b[1;33m                 for yi in tqdm(result_10m_boosted_split.flatten())])\n\u001b[0m",
      "\u001b[1;31mNameError\u001b[0m: name 'split_map' is not defined"
     ]
    }
   ],
   "source": [
    "result_10m_boosted_split = gdal.Open(G2_CLASS, gdal.GA_ReadOnly)\n",
    "\n",
    "result_10m_boosted = gdal.Open(G1_CLASS, gdal.GA_ReadOnly)\n",
    "\n",
    "# get result data\n",
    "result_10m_boosted = result_10m_boosted.GetRasterBand(1).ReadAsArray()\n",
    "result_10m_boosted_split = result_10m_boosted_split.GetRasterBand(1).ReadAsArray()\n",
    "\n",
    "# open and map groung truth\n",
    "cos = gdal.Open(COS_SRC + \"clipped_cos_50982.tif\", gdal.GA_ReadOnly)\n",
    "cos = cos.GetRasterBand(1).ReadAsArray()\n",
    "cos = cos[:result_10m_boosted_split.shape[0], :result_10m_boosted_split.shape[1]]\n",
    "\n",
    "print(\"Mapping cos...\")\n",
    "cos_g1 = np.array([data._class_map(yi)\n",
    "                for yi in tqdm(cos.flatten())])\n",
    "cos_g2 = np.array([data._class_split_map(yi)\n",
    "                    for yi in tqdm(cos.flatten())])\n",
    "\n",
    "print(\"Mapping split...\") \n",
    "result_10m_boosted_split_mapped = np.array([split_map(yi)\n",
    "                for yi in tqdm(result_10m_boosted_split.flatten())])"
   ]
  },
  {
   "cell_type": "code",
   "execution_count": null,
   "metadata": {},
   "outputs": [],
   "source": [
    "classes_cos = [\"ESTRUTURAS\", \"NATURAL\", \"ÁGUA\"]\n",
    " \n",
    "print(\"cos vs split\")\n",
    "kappa = cohen_kappa_score(cos, result_10m_boosted_split_mapped)\n",
    "print(f'Kappa: {kappa}')\n",
    "print(classification_report(cos, result_10m_boosted_split_mapped))\n",
    "print(confusion_matrix(cos, result_10m_boosted_split_mapped))\n",
    "\n",
    "print(\"cos vs boosted\")\n",
    "kappa = cohen_kappa_score(cos, result_10m_boosted.flatten())\n",
    "print(f'Kappa: {kappa}')\n",
    "print(classification_report(cos, result_10m_boosted.flatten()))\n",
    "print(confusion_matrix(cos, result_10m_boosted.flatten()))\n",
    "\n",
    "print(\"boosted vs split\")\n",
    "kappa = cohen_kappa_score(result_10m_boosted.flatten(), result_10m_boosted_split_mapped)\n",
    "print(f'Kappa: {kappa}')\n",
    "print(classification_report(result_10m_boosted.flatten(), result_10m_boosted_split_mapped))\n",
    "print(confusion_matrix(result_10m_boosted.flatten(), result_10m_boosted_split_mapped))"
   ]
  }
 ],
 "metadata": {
  "kernelspec": {
   "display_name": "Python 3",
   "language": "python",
   "name": "python3"
  },
  "language_info": {
   "codemirror_mode": {
    "name": "ipython",
    "version": 3
   },
   "file_extension": ".py",
   "mimetype": "text/x-python",
   "name": "python",
   "nbconvert_exporter": "python",
   "pygments_lexer": "ipython3",
   "version": "3.7.5"
  }
 },
 "nbformat": 4,
 "nbformat_minor": 4
}
